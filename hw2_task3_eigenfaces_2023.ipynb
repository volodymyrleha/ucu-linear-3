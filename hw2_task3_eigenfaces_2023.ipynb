{
  "cells": [
    {
      "cell_type": "code",
      "execution_count": null,
      "metadata": {
        "id": "LmMrlcbe2Qwh"
      },
      "outputs": [],
      "source": [
        "%load_ext autoreload\n",
        "%autoreload 2"
      ]
    },
    {
      "cell_type": "markdown",
      "metadata": {
        "id": "ZI6wmW222Qwl"
      },
      "source": [
        "# Task 3: Eigenfaces & Fischerfaces (3 pts)\n",
        "\n",
        "### <div align=\"right\"> &copy; Markiian Novosad & Rostyslav Hryniv, 2023 </div>\n",
        "\n",
        "## Completed by:   \n",
        "*   Mykhailo Pavliuk\n",
        "*   Volodymyr Leha\n",
        "\n",
        "\n",
        "In this task your main goal is to discuss dimensionality reduction techniques, such as **PCA** and **LDA** and their performance on classification tasks.\n",
        "\n",
        "A good source to read more on these methods is the book\n",
        "\n",
        "*   Kevin P. Murphy. [Probabilistic Machine Learning: An Introduction](https://probml.github.io/pml-book/book1.html), MIT, 2022. Section 9.2.6 (FLDA), 20.1 (PCA and Eigenfaces)\n",
        "\n"
      ]
    },
    {
      "cell_type": "markdown",
      "metadata": {
        "id": "4Hs6_iNP2Qwo"
      },
      "source": [
        "## 1. Lib and Data prep (0.5 pts)\n",
        "#### Let's start with importing all neccesary libraries and preparing our data"
      ]
    },
    {
      "cell_type": "code",
      "execution_count": null,
      "metadata": {
        "id": "J2u-PrtX2Qwo"
      },
      "outputs": [],
      "source": [
        "from PIL import Image\n",
        "from sklearn.datasets import fetch_lfw_people\n",
        "import numpy as np\n",
        "from sklearn.svm import SVC\n",
        "import sklearn\n",
        "from matplotlib import pyplot as plt\n",
        "import scipy"
      ]
    },
    {
      "cell_type": "markdown",
      "metadata": {
        "id": "OlsTHFQH2Qwp"
      },
      "source": [
        "Seed libs, so we get the same results every time:"
      ]
    },
    {
      "cell_type": "code",
      "execution_count": null,
      "metadata": {
        "id": "AUeBEh_f2Qwq"
      },
      "outputs": [],
      "source": [
        "sklearn.random.seed(1)\n",
        "np.random.seed(1)"
      ]
    },
    {
      "cell_type": "markdown",
      "metadata": {
        "id": "bQcP40aG2Qwr"
      },
      "source": [
        "Fetch data and split them into training and test sets:"
      ]
    },
    {
      "cell_type": "code",
      "execution_count": null,
      "metadata": {
        "id": "N7ZU6qnp2Qwr",
        "colab": {
          "base_uri": "https://localhost:8080/"
        },
        "outputId": "54d1d330-5013-4f56-87f8-c9f6adbb559e"
      },
      "outputs": [
        {
          "output_type": "execute_result",
          "data": {
            "text/plain": [
              "((189, 1036), (64, 1036))"
            ]
          },
          "metadata": {},
          "execution_count": 3
        }
      ],
      "source": [
        "lfw_people = fetch_lfw_people(min_faces_per_person=100, resize=0.3)\n",
        "n,h,w = lfw_people.images.shape\n",
        "labels = lfw_people.target\n",
        "\n",
        "class1, class2 = 3, 4 # choose your preferred classes, make sure that there is almost equal number of samples for each class\n",
        "\n",
        "x= lfw_people.data[(labels == class1)|(labels==class2)]\n",
        "y = labels[(labels == class2)|(labels==class1)]\n",
        "\n",
        "from sklearn.model_selection import train_test_split\n",
        "x_train, x_test, y_train, y_test = train_test_split(x, y, test_size=0.25) # split data using sklearn library\n",
        "x_train.shape, x_test.shape"
      ]
    },
    {
      "cell_type": "markdown",
      "metadata": {
        "id": "kWuTww0P2Qws"
      },
      "source": [
        "Visualise Your data:"
      ]
    },
    {
      "cell_type": "code",
      "execution_count": null,
      "metadata": {
        "id": "uPhU_vn-2Qwt",
        "colab": {
          "base_uri": "https://localhost:8080/",
          "height": 324
        },
        "outputId": "a3c7db11-13ef-4a94-98ae-1726ecf2f74a"
      },
      "outputs": [
        {
          "output_type": "display_data",
          "data": {
            "text/plain": [
              "<Figure size 1500x400 with 5 Axes>"
            ],
            "image/png": "[encoded data removed]"
          },
          "metadata": {}
        }
      ],
      "source": [
        "# ========= YOUR CODE STARTS HERE ========= #\n",
        "def show_images(x, y, n=5):\n",
        "  fig, axes = plt.subplots(1, n, figsize=(15, 4))\n",
        "  for i in range(n):\n",
        "    idx = np.random.randint(0, len(x))\n",
        "    img = x[idx].reshape(h, w)\n",
        "    axes[i].imshow(img, cmap='gray')\n",
        "    axes[i].set_title(f\"Class: {y[idx]}\")\n",
        "    axes[i].axis('off')\n",
        "\n",
        "  plt.show()\n",
        "\n",
        "show_images(x_train, y_train)\n",
        "\n",
        "# ========== YOUR CODE ENDS HERE ========== #"
      ]
    },
    {
      "cell_type": "markdown",
      "source": [
        "## 2. PCA (1.5 pts)\n"
      ],
      "metadata": {
        "id": "37l6jdes2-Ms"
      }
    },
    {
      "cell_type": "markdown",
      "metadata": {
        "id": "iD4r5Jja2Qwt"
      },
      "source": [
        "### **2.1 (0.7 pt) Implementation**\n",
        "Let's start implementing the **PCA** algorithm"
      ]
    },
    {
      "cell_type": "code",
      "execution_count": null,
      "metadata": {
        "id": "3-pBomBI2Qwu"
      },
      "outputs": [],
      "source": [
        "class MYPCA:\n",
        "    def __init__(self) -> None:\n",
        "        self._data_mean = None\n",
        "        self.eigenvalues = None\n",
        "        self.eigenvectors = None\n",
        "        self._k_components = None\n",
        "        self.components = None\n",
        "\n",
        "    def _get_num_components(self, lambdas, threshold ) -> int:\n",
        "        \"\"\"\n",
        "        Calculate minimal number of principal components so that variance explainability >= threshold.\n",
        "        \"\"\"\n",
        "         # ========= YOUR CODE STARTS HERE ========= #\n",
        "        lambdas = np.sort(lambdas)[::-1]\n",
        "        total_variance = np.sum(lambdas)\n",
        "        cumulative_variance = np.cumsum(lambdas) / total_variance\n",
        "\n",
        "        for k, cumulative in enumerate(cumulative_variance, start=1):\n",
        "            if cumulative >= threshold:\n",
        "                return k\n",
        "         # ========== YOUR CODE ENDS HERE ========== #\n",
        "\n",
        "    def center_data(self, data):\n",
        "        \"\"\"\n",
        "        Center our data by subtracting the mean\n",
        "        \"\"\"\n",
        "         # ========= YOUR CODE STARTS HERE ========= #\n",
        "\n",
        "        self._data_mean = np.mean(data, axis=0)\n",
        "        return data - self._data_mean\n",
        "         # ========== YOUR CODE ENDS HERE ========== #\n",
        "\n",
        "\n",
        "    def compute_eigen(self, cov_mat):\n",
        "        \"\"\"\n",
        "        Using built-in numpy functionality, compute eigenvectors and eigenvalues of covariance matrix;\n",
        "        \"\"\"\n",
        "        # ========= YOUR CODE STARTS HERE ========= #\n",
        "        eigenvalues, eigenvectors = np.linalg.eigh(cov_mat)\n",
        "\n",
        "        sorted_indices = np.argsort(eigenvalues)[::-1]\n",
        "        eigenvalues = eigenvalues[sorted_indices]\n",
        "        eigenvectors = eigenvectors[:, sorted_indices]\n",
        "\n",
        "        return eigenvalues, eigenvectors\n",
        "        # ========== YOUR CODE ENDS HERE ========== #\n",
        "\n",
        "\n",
        "    def fit(self, data, exp_threshold=0.8):\n",
        "        \"\"\"\n",
        "        1. Center the data;\n",
        "        2. Compute covariance matrix\n",
        "        3. Compute optimal k (number of components)\n",
        "        4. Compute top-k eigenvalues from covariance matrix\n",
        "        5. Compute components by projecting data with eigenvectors\n",
        "        \"\"\"\n",
        "        # ========= YOUR CODE STARTS HERE ========= #\n",
        "\n",
        "        data_norm = self.center_data(data)\n",
        "        cov_mat = np.cov(data_norm, rowvar=False)\n",
        "        self.eigenvalues, self.eigenvectors = self.compute_eigen(cov_mat=cov_mat)\n",
        "        self._k_componentes = self._get_num_components(self.eigenvalues, exp_threshold)\n",
        "\n",
        "        top_k_values = self.eigenvalues[:self._k_components]\n",
        "        top_k_vectors = self.eigenvectors[:, :self._k_components]\n",
        "        self.components = data_norm.dot(top_k_vectors)\n",
        "        # ========== YOUR CODE ENDS HERE ========== #\n",
        "\n",
        "\n",
        "    def plot_components(self, im_shape, n_components=5):\n",
        "        \"\"\"\n",
        "        For better understanding, visualise the *self.components* variable.\n",
        "        \"\"\"\n",
        "        # ========= YOUR CODE STARTS HERE ========= #\n",
        "        components = self.components[:n_components]\n",
        "        fig, axes = plt.subplots(1, n_components, figsize=(15, 4))\n",
        "        for i, component in enumerate(components):\n",
        "            component_image = component.reshape(im_shape)\n",
        "            component_image = (component_image - component_image.min()) / (component_image.max() - component_image.min())\n",
        "            axes[i].imshow(component_image, cmap='gray')\n",
        "            axes[i].axis('off')\n",
        "            axes[i].set_title(f\"Component {i + 1}\")\n",
        "\n",
        "        plt.show()\n",
        "        # ========== YOUR CODE ENDS HERE ========== #\n",
        "\n",
        "    def plot_explainability(self):\n",
        "        \"\"\"\n",
        "        Plot dependence of variance explainability on number of components.\n",
        "        \"\"\"\n",
        "        # ========= YOUR CODE STARTS HERE ========= #\n",
        "        explained_variance = np.cumsum(self.eigenvalues) / np.sum(self.eigenvalues)\n",
        "        plt.plot(np.arange(1, len(explained_variance) + 1), explained_variance, marker='o')\n",
        "        plt.xlabel(\"Number of Components\")\n",
        "        plt.ylabel(\"Cumulative Explained Variance\")\n",
        "        plt.title(\"Explained Variance vs Number of Components\")\n",
        "        plt.grid(True)\n",
        "        plt.show()\n",
        "        # ========== YOUR CODE ENDS HERE ========== #\n",
        "\n",
        "    def transform(self, data):\n",
        "        \"\"\"\n",
        "        1. Center the data;\n",
        "        2. Projection onto the components\n",
        "        \"\"\"\n",
        "        # ========= YOUR CODE STARTS HERE ========= #\n",
        "\n",
        "        data_norm = self.center_data(data)\n",
        "        return data_norm.dot(self.eigenvectors[:, :self._k_components])\n",
        "        # ========== YOUR CODE ENDS HERE ========== #\n",
        "\n",
        "\n",
        "\n"
      ]
    },
    {
      "cell_type": "markdown",
      "metadata": {
        "id": "Yvdn0TI_2Qwv"
      },
      "source": [
        "### **2.2 PCA Classifier (0.4 pts)**\n",
        "Having implemented the **MYPCA** class, let's plot how our components look like and our explainability plot"
      ]
    },
    {
      "cell_type": "code",
      "execution_count": null,
      "metadata": {
        "id": "I0m1uDdW2Qwv",
        "colab": {
          "base_uri": "https://localhost:8080/",
          "height": 472
        },
        "outputId": "578ee223-02b0-4f28-bd90-129627265bee"
      },
      "outputs": [
        {
          "output_type": "display_data",
          "data": {
            "text/plain": [
              "<Figure size 640x480 with 1 Axes>"
            ],
            "image/png": "[encoded data removed]"
          },
          "metadata": {}
        }
      ],
      "source": [
        "pca = MYPCA()\n",
        "pca.fit(x_train, exp_threshold=0.8)\n",
        "pca.plot_explainability()"
      ]
    },
    {
      "cell_type": "code",
      "execution_count": null,
      "metadata": {
        "id": "UV3tfiok2Qwv",
        "colab": {
          "base_uri": "https://localhost:8080/",
          "height": 324
        },
        "outputId": "8e12fc63-267a-4279-99ed-ac658ae819b5"
      },
      "outputs": [
        {
          "output_type": "display_data",
          "data": {
            "text/plain": [
              "<Figure size 1500x400 with 5 Axes>"
            ],
            "image/png": "[encoded data removed]"
          },
          "metadata": {}
        }
      ],
      "source": [
        "pca.plot_components(im_shape=(37, 28))"
      ]
    },
    {
      "cell_type": "markdown",
      "metadata": {
        "id": "qmoja0dt2Qww"
      },
      "source": [
        "Now, let's try to classify the data, using sklearn **SVC**."
      ]
    },
    {
      "cell_type": "code",
      "execution_count": null,
      "metadata": {
        "id": "xFD4XK4S2Qww",
        "colab": {
          "base_uri": "https://localhost:8080/"
        },
        "outputId": "9380f68e-dd3c-460d-94ed-83004b632d64"
      },
      "outputs": [
        {
          "output_type": "stream",
          "name": "stdout",
          "text": [
            "0.796875\n"
          ]
        }
      ],
      "source": [
        "classifier = SVC().fit(pca.transform(x_train), y_train)\n",
        "print(classifier.score(pca.transform(x_test), y_test))"
      ]
    },
    {
      "cell_type": "markdown",
      "metadata": {
        "id": "8nHXJxMZ2Qww"
      },
      "source": [
        "### **2.3. Discussion of the results (0.4 pts):**\n",
        "1. What is the concept of variance explainability and why is it so important?\n",
        "1. What is the optimal number of components to reach good enough classification performance and why?"
      ]
    },
    {
      "cell_type": "markdown",
      "metadata": {
        "id": "dN72SKVf2Qww"
      },
      "source": [
        "---\n",
        "#### **Your answer here:**\n",
        "1. Variance explainability is a proportion of the total variance in the data by each component in PCA. When there are many features in the dataset, some of them might be redundant, the variance explainbility helps to ensure accuracy of the reduced representation of data.\n",
        "2. The optimal number of components depends on the dataset. In general we want to find the number that captures enough variance (usually 90%), to have good accuracy. Less number of components can improve efficiency, but might lose critical information.\n",
        "---"
      ]
    },
    {
      "cell_type": "markdown",
      "metadata": {
        "id": "bLJvru6U2Qwx"
      },
      "source": [
        "## 3. Fischerface classification and LDA (1 pt)\n",
        "Now, having implemented the **PCA** algorithm, let's implement the **Linear Discriminant Analysis** algorithm.\n",
        "\n",
        "By this [link](https://towardsdatascience.com/fishers-linear-discriminant-intuitively-explained-52a1ba79e1bb) you can read more about this algorithm.\n",
        "\n",
        "In this task we will see how we can improve our classification using **LDA**."
      ]
    },
    {
      "cell_type": "markdown",
      "source": [
        "### **3.1. (0.6 pt) Implementation**\n",
        "Here you only need to compute the $\\mathbf{\\it{S_B}}$ and $\\mathbf{\\it{S_W}}$ covariance matrices, discussed in the source above, and select appropriate eigenvectors"
      ],
      "metadata": {
        "id": "FLeEu4aJ0sjg"
      }
    },
    {
      "cell_type": "code",
      "execution_count": null,
      "metadata": {
        "id": "A4nTLBNQ2Qwx"
      },
      "outputs": [],
      "source": [
        "class MYLDA:\n",
        "\n",
        "    def fit(self, data, data_labels, k_components):\n",
        "        n_feats = data.shape[-1]\n",
        "        SW = np.zeros((n_feats, n_feats))\n",
        "        SB = np.zeros((n_feats, n_feats))\n",
        "        mu = data.mean(0)\n",
        "\n",
        "        # ========= YOUR CODE STARTS HERE ========= #\n",
        "\n",
        "        for channel in np.unique(data_labels):\n",
        "            class_data = data[data_labels == channel]\n",
        "            class_mean = class_data.mean(0)\n",
        "            class_size = class_data.shape[0]\n",
        "\n",
        "            class_diff = class_data - class_mean\n",
        "            SW += class_diff.T @ class_diff\n",
        "\n",
        "            mean_diff = (class_mean - mu).reshape(-1, 1)\n",
        "            SB += class_size * (mean_diff @ mean_diff.T)\n",
        "        # ========== YOUR CODE ENDS HERE ========== #\n",
        "\n",
        "        SW += 1e-6 * np.eye(SW.shape[0])  # This needed to avoid singular SW\n",
        "        evals, evecs = scipy.linalg.eigh(SB, SW)\n",
        "        sorted_indices = np.argsort(evals)[::-1]\n",
        "        self.proj = evecs[:, sorted_indices[:k_components]] # sort eigenvectors by eigenvalues and selet top k eigenvectors\n",
        "\n",
        "    def transform(self, data):\n",
        "        return data @ self.proj\n"
      ]
    },
    {
      "cell_type": "markdown",
      "metadata": {
        "id": "Sl5PiR9G2Qwx"
      },
      "source": [
        "Here we will implement the class for the Fischerface algorithm, which basically uses an **LDA** on top of **PCA**, such that we will perform maximum dimensionality reduction for classification purposes:"
      ]
    },
    {
      "cell_type": "code",
      "execution_count": null,
      "metadata": {
        "id": "0Zzdo1Fv2Qwx"
      },
      "outputs": [],
      "source": [
        "class FischerFaces:\n",
        "    def __init__(self) -> None:\n",
        "        \"\"\"\n",
        "        Initialize pca and lda\n",
        "        \"\"\"\n",
        "        self.pca = MYPCA()\n",
        "        self.lda = MYLDA()\n",
        "\n",
        "    def fit(self, X,Y, threshold, lda_components):\n",
        "        \"\"\"\n",
        "        Fit the fischerface algo:\n",
        "        1. Fit PCA\n",
        "        2. Reduce data dimensions with PCA\n",
        "        3. Fit LDA\n",
        "        \"\"\"\n",
        "        self.pca.fit(X)\n",
        "        pca_trans = self.pca.transform(X)\n",
        "        self.lda.fit( pca_trans,  Y , lda_components )\n",
        "\n",
        "    def transform(self, X):\n",
        "        \"\"\"\n",
        "        Transform the data by using fitted PCA and LDA\n",
        "        \"\"\"\n",
        "        return self.lda.transform(X)"
      ]
    },
    {
      "cell_type": "markdown",
      "metadata": {
        "id": "Fxhi_2Lp2Qwy"
      },
      "source": [
        "Now, let's try out our new classifier based on Fischerface algorithm.\n",
        "\n",
        "*Hint*: select the number of LDA components equal to the number of classes"
      ]
    },
    {
      "cell_type": "code",
      "execution_count": null,
      "metadata": {
        "id": "aLHmbeYF2Qwy",
        "outputId": "46243be8-1d10-43f3-dc2b-3fc9a01106c4",
        "colab": {
          "base_uri": "https://localhost:8080/"
        }
      },
      "outputs": [
        {
          "output_type": "stream",
          "name": "stdout",
          "text": [
            "0.53125\n"
          ]
        }
      ],
      "source": [
        "f = FischerFaces()\n",
        "f.fit(x_train, y_train, 0.9, 2)\n",
        "\n",
        "classifier = SVC().fit(f.transform(x_train), y_train)\n",
        "print(classifier.score(f.transform(x_test), y_test))"
      ]
    },
    {
      "cell_type": "markdown",
      "metadata": {
        "id": "yVqC5sng2Qwy"
      },
      "source": [
        "### **2.2 Discussion (0.4 pts)**\n",
        "Evaluate the results of Fishcerface classifier (LDA). Discuss whether it performs better than the classic Eigenface algorithm (PCA), and if so, why"
      ]
    },
    {
      "cell_type": "markdown",
      "metadata": {
        "id": "7lsGW_1B2Qwy"
      },
      "source": [
        "PCA performed better than LDA by getting a score of 0.79, meanwhile LDA got only 0.53. Usually, LDA performs better as it maximazes the ratio of between class variance to within class variance. PCA captures overall data variance, and seems to be more suitable for this dataset.\n"
      ]
    }
  ],
  "metadata": {
    "kernelspec": {
      "display_name": "Python 3.9.10 64-bit",
      "language": "python",
      "name": "python3"
    },
    "language_info": {
      "codemirror_mode": {
        "name": "ipython",
        "version": 3
      },
      "file_extension": ".py",
      "mimetype": "text/x-python",
      "name": "python",
      "nbconvert_exporter": "python",
      "pygments_lexer": "ipython3",
      "version": "3.9.10"
    },
    "orig_nbformat": 4,
    "vscode": {
      "interpreter": {
        "hash": "aee8b7b246df8f9039afb4144a1f6fd8d2ca17a180786b69acc140d282b71a49"
      }
    },
    "colab": {
      "provenance": []
    }
  },
  "nbformat": 4,
  "nbformat_minor": 0
}